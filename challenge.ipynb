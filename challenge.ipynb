{
 "cells": [
  {
   "cell_type": "code",
   "execution_count": 15,
   "id": "05901523-c19f-4e2b-8bbd-d8be815ec563",
   "metadata": {},
   "outputs": [
    {
     "name": "stdout",
     "output_type": "stream",
     "text": [
      "{1: {'full_name': 'John Doe', 'contact_number': '123-456-7890', 'total_trips': 2}, 2: {'full_name': 'Raul', 'contact_number': '123-456-7891', 'total_trips': 1}, 3: {'full_name': 'Ivan', 'contact_number': '123-456-7892', 'total_trips': 0}}\n",
      "45.75\n",
      "{'full_name': 'John Doe', 'contact_number': '123-456-7890', 'total_trips': 2}\n",
      "Best client is Raul\n",
      "{'trip_id': 101, 'driver_id': 1, 'customer_name': 'Cliente A', 'distance': 10.5, 'fare': 15.75}\n",
      "{'trip_id': 102, 'driver_id': 1, 'customer_name': 'Cliente B', 'distance': 20.2, 'fare': 5.0}\n"
     ]
    }
   ],
   "source": [
    "# Inicializar diccionarios y listas para almacenar datos de conductores y viajes\n",
    "driver_data = {}\n",
    "trip_data = []\n",
    "\n",
    "# Añadir nuevos conductores al diccionario de conductores\n",
    "driver_data[1] = {\"full_name\": \"John Doe\", \"contact_number\": \"123-456-7890\", \"total_trips\": 0}\n",
    "driver_data[2] = {\"full_name\": \"Raul\", \"contact_number\": \"123-456-7891\", \"total_trips\": 0}\n",
    "driver_data[3] = {\"full_name\": \"Ivan\", \"contact_number\": \"123-456-7892\", \"total_trips\": 0}\n",
    "# Continuar con más\n",
    "\n",
    "# Registrar nuevos viajes en taxi con los detalles relevantes\n",
    "trip_data.append({\"trip_id\": 101, \"driver_id\": 1, \"customer_name\": \"Cliente A\", \"distance\": 10.5, \"fare\": 15.75})\n",
    "trip_data.append({\"trip_id\": 102, \"driver_id\": 1, \"customer_name\": \"Cliente B\", \"distance\": 20.2, \"fare\": 5.00})\n",
    "trip_data.append({\"trip_id\": 103, \"driver_id\": 2, \"customer_name\": \"Cliente C\", \"distance\": 21.2, \"fare\": 25.00})\n",
    "# Continuar con más\n",
    "\n",
    "# Aquí va tu código\n",
    "\n",
    "#Calcular y actualizar el número total de viajes realizados por cada conductor.\n",
    "\n",
    "for trip in trip_data:\n",
    "    driver_id = trip['driver_id']\n",
    "    driver_data[driver_id]['total_trips'] += 1\n",
    "\n",
    "print(driver_data)\n",
    "\n",
    "# Calcular los ingresos totales generados por la compañía de taxis.\n",
    "total_fare = 0\n",
    "\n",
    "for trip in trip_data:\n",
    "    total_fare += trip['fare']\n",
    "\n",
    "print(total_fare)\n",
    "\n",
    "# Encontrar al conductor con el mayor número de viajes.\n",
    "best_driver = ''\n",
    "for driver in driver_data:\n",
    "    if best_driver == '':\n",
    "        best_driver = driver_data[driver]\n",
    "    if driver_data[driver]['total_trips'] > best_driver['total_trips']:\n",
    "        best_driver = driver_data[driver]\n",
    "\n",
    "print(best_driver)\n",
    "\n",
    "# Encontrar al conductor con los ingresos totales más altos\n",
    "fare_dict = {}\n",
    "for trip in trip_data:\n",
    "    if trip['driver_id'] in fare_dict:\n",
    "        fare_dict[trip['driver_id']] += trip['fare']\n",
    "    else:\n",
    "        fare_dict[trip['driver_id']] = trip['fare']\n",
    "result = max(fare_dict, key=fare_dict.get)\n",
    "print(f\"Best client is {driver_data[result]['full_name']}\")\n",
    "\n",
    "# Encontrar al conductor con los ingresos totales más altos\n",
    "id = 1\n",
    "for trip in trip_data:\n",
    "    if trip['driver_id'] == id:\n",
    "        print(trip)"
   ]
  }
 ],
 "metadata": {
  "kernelspec": {
   "display_name": "Python 3 (ipykernel)",
   "language": "python",
   "name": "python3"
  },
  "language_info": {
   "codemirror_mode": {
    "name": "ipython",
    "version": 3
   },
   "file_extension": ".py",
   "mimetype": "text/x-python",
   "name": "python",
   "nbconvert_exporter": "python",
   "pygments_lexer": "ipython3",
   "version": "3.9.18"
  }
 },
 "nbformat": 4,
 "nbformat_minor": 5
}
